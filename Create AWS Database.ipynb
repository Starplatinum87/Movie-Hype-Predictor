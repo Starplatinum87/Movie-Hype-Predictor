{
 "cells": [
  {
   "cell_type": "markdown",
   "metadata": {},
   "source": [
    "# Add Metis Project 2 Data to RDS Database (on AWS Instance)"
   ]
  },
  {
   "cell_type": "code",
   "execution_count": 109,
   "metadata": {},
   "outputs": [],
   "source": [
    "import psycopg2\n",
    "import sys\n",
    "import numpy as np\n",
    "import pandas as pd\n",
    "import pandas.io.sql as pdsql\n",
    "import sqlalchemy as sq\n",
    "\n",
    "def connect_to_db_sqlalchemy():\n",
    "    conn_string = \"postgresql+psycopg2://\"+SENS.dsn_uid+\":\"+SENS.dsn_pwd+\"@\"+SENS.dsn_hostname+\":\"+SENS.dsn_port+\"/\"+SENS.dsn_database\n",
    "    engine = sq.create_engine(conn_string)\n",
    "    return engine\n",
    "\n",
    "def connect_to_db():\n",
    "    import SENSITIVE as SENS\n",
    "    try:\n",
    "        conn_string = \"host=\"+SENS.dsn_hostname+\" port=\"+SENS.dsn_port+\" dbname=\"+SENS.dsn_database+\" user=\"+SENS.dsn_uid+\" password=\"+SENS.dsn_pwd\n",
    "        print(\"Connecting to database\\n  ->%s\" % (conn_string.replace(SENS.dsn_pwd, '#'*len(SENS.dsn_pwd))))\n",
    "        conn=psycopg2.connect(conn_string)\n",
    "        print(\"Connected!\\n\")\n",
    "        return conn\n",
    "    except:\n",
    "        print(\"Unable to connect to the database.\")\n",
    "        return"
   ]
  },
  {
   "cell_type": "code",
   "execution_count": 93,
   "metadata": {},
   "outputs": [
    {
     "name": "stdout",
     "output_type": "stream",
     "text": [
      "Connecting to database\n",
      "  ->host=postgresql-aws.c45uzy6noe0z.us-east-1.rds.amazonaws.com port=5432 dbname=MetisProject2 user=cmgiler password=########\n",
      "Connected!\n",
      "\n"
     ]
    }
   ],
   "source": [
    "conn = connect_to_db()\n",
    "# conn.close()"
   ]
  },
  {
   "cell_type": "code",
   "execution_count": 94,
   "metadata": {},
   "outputs": [
    {
     "name": "stdout",
     "output_type": "stream",
     "text": [
      "\n",
      "Show me the databases:\n",
      "\n",
      "    template0\n",
      "    rdsadmin\n",
      "    template1\n",
      "    postgres\n",
      "    MetisProject2\n"
     ]
    }
   ],
   "source": [
    "# Print available databases:\n",
    "cursor = conn.cursor()\n",
    "cursor.execute(\"\"\"SELECT datname from pg_database\"\"\")\n",
    "rows = cursor.fetchall()\n",
    "print(\"\\nShow me the databases:\\n\")\n",
    "for row in rows:\n",
    "    print(\"   \", row[0])"
   ]
  },
  {
   "cell_type": "code",
   "execution_count": null,
   "metadata": {
    "collapsed": true
   },
   "outputs": [],
   "source": []
  },
  {
   "cell_type": "markdown",
   "metadata": {},
   "source": [
    "## IMDb Datasets\n",
    "\n",
    "Subsets of IMDb data are available for access to customers for personal and non-commercial use. You can hold local copies of this data, and it is subject to our terms and conditions. Please refer to the Non-Commercial Licensing and copyright/license and verify compliance.\n",
    "\n",
    "### Data Location \n",
    "\n",
    "The dataset files can be accessed and downloaded from https://datasets.imdbws.com/. The data is refreshed daily.\n",
    "\n",
    "### IMDb Dataset Details \n",
    "\n",
    "Each dataset is contained in a gzipped, tab-separated-values (TSV) formatted file in the UTF-8 character set. The first line in each file contains headers that describe what is in each column. A ‘\\N’ is used to denote that a particular field is missing or null for that title/name. The available datasets are as follows: \n",
    "\n",
    "##### title.basics.tsv.gz - Contains the following information for titles:\n",
    "\n",
    "- tconst (string) - alphanumeric unique identifier of the title\n",
    "- titleType (string) – the type/format of the title (e.g. movie, short, tvseries, tvepisode, video, etc)\n",
    "- primaryTitle (string) – the more popular title / the title used by the filmmakers on promotional materials at the point of release\n",
    "- originalTitle (string) - original title, in the original language\n",
    "- isAdult (boolean) - 0: non-adult title; 1: adult title.\n",
    "- startYear (YYYY) – represents the release year of a title. In the case of TV Series, it is the series start year.\n",
    "- endYear (YYYY) – TV Series end year. ‘\\N’ for all other title types\n",
    "- runtimeMinutes – primary runtime of the title, in minutes\n",
    "- genres (string array) – includes up to three genres associated with the title"
   ]
  },
  {
   "cell_type": "code",
   "execution_count": 113,
   "metadata": {
    "scrolled": true
   },
   "outputs": [
    {
     "name": "stdout",
     "output_type": "stream",
     "text": [
      "Connecting to database\n",
      "  ->host=postgresql-aws.c45uzy6noe0z.us-east-1.rds.amazonaws.com port=5432 dbname=MetisProject2 user=cmgiler password=########\n",
      "Connected!\n",
      "\n"
     ]
    }
   ],
   "source": [
    "conn = connect_to_db()\n",
    "cursor = conn.cursor()\n",
    "table_name = 'title_basics'\n",
    "query = \"\"\"CREATE TABLE %s(tconst VARCHAR(20) PRIMARY KEY, \n",
    "                           titleType VARCHAR(150), \n",
    "                           primaryTitle VARCHAR(500), \n",
    "                           originalTitle VARCHAR(500), \n",
    "                           isAdult BOOLEAN, \n",
    "                           startYear INTEGER, \n",
    "                           endYear INTEGER, \n",
    "                           runtimeMinutes INTEGER, \n",
    "                           genre VARCHAR(150))\"\"\" % table_name\n",
    "\n",
    "cursor.execute(\"DROP TABLE IF EXISTS %s\" % table_name)\n",
    "cursor.execute(query)\n",
    "conn.commit()\n",
    "conn.close()"
   ]
  },
  {
   "cell_type": "code",
   "execution_count": 104,
   "metadata": {},
   "outputs": [
    {
     "name": "stderr",
     "output_type": "stream",
     "text": [
      "/Library/Frameworks/Python.framework/Versions/3.6/lib/python3.6/site-packages/IPython/core/interactiveshell.py:2698: DtypeWarning: Columns (5) have mixed types. Specify dtype option on import or set low_memory=False.\n",
      "  interactivity=interactivity, compiler=compiler, result=result)\n"
     ]
    },
    {
     "name": "stdout",
     "output_type": "stream",
     "text": [
      "4753215\n"
     ]
    },
    {
     "data": {
      "text/html": [
       "<div>\n",
       "<style>\n",
       "    .dataframe thead tr:only-child th {\n",
       "        text-align: right;\n",
       "    }\n",
       "\n",
       "    .dataframe thead th {\n",
       "        text-align: left;\n",
       "    }\n",
       "\n",
       "    .dataframe tbody tr th {\n",
       "        vertical-align: top;\n",
       "    }\n",
       "</style>\n",
       "<table border=\"1\" class=\"dataframe\">\n",
       "  <thead>\n",
       "    <tr style=\"text-align: right;\">\n",
       "      <th></th>\n",
       "      <th>tconst</th>\n",
       "      <th>titleType</th>\n",
       "      <th>primaryTitle</th>\n",
       "      <th>originalTitle</th>\n",
       "      <th>isAdult</th>\n",
       "      <th>startYear</th>\n",
       "      <th>endYear</th>\n",
       "      <th>runtimeMinutes</th>\n",
       "      <th>genres</th>\n",
       "    </tr>\n",
       "  </thead>\n",
       "  <tbody>\n",
       "    <tr>\n",
       "      <th>0</th>\n",
       "      <td>tt0000001</td>\n",
       "      <td>short</td>\n",
       "      <td>Carmencita</td>\n",
       "      <td>Carmencita</td>\n",
       "      <td>False</td>\n",
       "      <td>1894</td>\n",
       "      <td>-9999</td>\n",
       "      <td>1</td>\n",
       "      <td>Documentary</td>\n",
       "    </tr>\n",
       "    <tr>\n",
       "      <th>1</th>\n",
       "      <td>tt0000002</td>\n",
       "      <td>short</td>\n",
       "      <td>Le clown et ses chiens</td>\n",
       "      <td>Le clown et ses chiens</td>\n",
       "      <td>False</td>\n",
       "      <td>1892</td>\n",
       "      <td>-9999</td>\n",
       "      <td>5</td>\n",
       "      <td>Animation</td>\n",
       "    </tr>\n",
       "    <tr>\n",
       "      <th>2</th>\n",
       "      <td>tt0000003</td>\n",
       "      <td>short</td>\n",
       "      <td>Pauvre Pierrot</td>\n",
       "      <td>Pauvre Pierrot</td>\n",
       "      <td>False</td>\n",
       "      <td>1892</td>\n",
       "      <td>-9999</td>\n",
       "      <td>4</td>\n",
       "      <td>Animation</td>\n",
       "    </tr>\n",
       "    <tr>\n",
       "      <th>3</th>\n",
       "      <td>tt0000004</td>\n",
       "      <td>short</td>\n",
       "      <td>Un bon bock</td>\n",
       "      <td>Un bon bock</td>\n",
       "      <td>False</td>\n",
       "      <td>1892</td>\n",
       "      <td>-9999</td>\n",
       "      <td>-9999</td>\n",
       "      <td>Animation</td>\n",
       "    </tr>\n",
       "    <tr>\n",
       "      <th>4</th>\n",
       "      <td>tt0000005</td>\n",
       "      <td>short</td>\n",
       "      <td>Blacksmith Scene</td>\n",
       "      <td>Blacksmith Scene</td>\n",
       "      <td>False</td>\n",
       "      <td>1893</td>\n",
       "      <td>-9999</td>\n",
       "      <td>1</td>\n",
       "      <td>Short</td>\n",
       "    </tr>\n",
       "  </tbody>\n",
       "</table>\n",
       "</div>"
      ],
      "text/plain": [
       "      tconst titleType            primaryTitle           originalTitle  \\\n",
       "0  tt0000001     short              Carmencita              Carmencita   \n",
       "1  tt0000002     short  Le clown et ses chiens  Le clown et ses chiens   \n",
       "2  tt0000003     short          Pauvre Pierrot          Pauvre Pierrot   \n",
       "3  tt0000004     short             Un bon bock             Un bon bock   \n",
       "4  tt0000005     short        Blacksmith Scene        Blacksmith Scene   \n",
       "\n",
       "   isAdult  startYear  endYear  runtimeMinutes       genres  \n",
       "0    False       1894    -9999               1  Documentary  \n",
       "1    False       1892    -9999               5    Animation  \n",
       "2    False       1892    -9999               4    Animation  \n",
       "3    False       1892    -9999           -9999    Animation  \n",
       "4    False       1893    -9999               1        Short  "
      ]
     },
     "execution_count": 104,
     "metadata": {},
     "output_type": "execute_result"
    }
   ],
   "source": [
    "title_basics_df = pd.read_csv('Data/title.basics.tsv', sep='\\t')\n",
    "def clean_year(y):\n",
    "    import numpy as np\n",
    "    try:\n",
    "        return int(y)\n",
    "    except:\n",
    "        return -9999\n",
    "\n",
    "def clean_genre(y):\n",
    "    y = str(y)\n",
    "    if y == '\\\\N':\n",
    "        return ''\n",
    "    return y.split(',')[0].strip()\n",
    "import datetime\n",
    "import numpy as np\n",
    "print(len(title_basics_df))\n",
    "# title_basics_df.drop('endYear', axis=1, inplace=True)\n",
    "title_basics_df['endYear'] = title_basics_df['endYear'].apply(clean_year)\n",
    "title_basics_df['startYear'] = title_basics_df['startYear'].apply(clean_year)\n",
    "title_basics_df['runtimeMinutes'] = title_basics_df['runtimeMinutes'].apply(clean_year)\n",
    "title_basics_df['genres'] = title_basics_df['genres'].apply(clean_genre)\n",
    "title_basics_df['isAdult'] = title_basics_df['isAdult'].apply(bool)\n",
    "title_basics_df.head()"
   ]
  },
  {
   "cell_type": "code",
   "execution_count": null,
   "metadata": {},
   "outputs": [],
   "source": [
    "engine = connect_to_db_sqlalchemy()"
   ]
  },
  {
   "cell_type": "code",
   "execution_count": null,
   "metadata": {},
   "outputs": [],
   "source": [
    "title_basics_df.iloc[:100].to_sql(table_name, engine)"
   ]
  },
  {
   "cell_type": "code",
   "execution_count": null,
   "metadata": {
    "collapsed": true
   },
   "outputs": [],
   "source": []
  },
  {
   "cell_type": "code",
   "execution_count": null,
   "metadata": {
    "collapsed": true
   },
   "outputs": [],
   "source": []
  },
  {
   "cell_type": "code",
   "execution_count": 105,
   "metadata": {},
   "outputs": [],
   "source": [
    "def generate_query(table_name, df):\n",
    "    query = \"INSERT INTO \" + table_name + \" VALUES \"\n",
    "    for i, row in df.iterrows():\n",
    "        query += str(tuple(row.values))\n",
    "        query += ', '\n",
    "    return query[:-2]"
   ]
  },
  {
   "cell_type": "code",
   "execution_count": 108,
   "metadata": {},
   "outputs": [
    {
     "name": "stdout",
     "output_type": "stream",
     "text": [
      "INSERT INTO title_basics VALUES ('tt0000001', 'short', 'Carmencita', 'Carmencita', False, 1894, -9999, 1, 'Documentary'), ('tt0000002', 'short', 'Le clown et ses chiens', 'Le clown et ses chiens', False, 1892, -9999, 5, 'Animation'), ('tt0000003', 'short', 'Pauvre Pierrot', 'Pauvre Pierrot', False, 1892, -9999, 4, 'Animation'), ('tt0000004', 'short', 'Un bon bock', 'Un bon bock', False, 1892, -9999, -9999, 'Animation'), ('tt0000005', 'short', 'Blacksmith Scene', 'Blacksmith Scene', False, 1893, -9999, 1, 'Short'), ('tt0000006', 'short', 'Chinese Opium Den', 'Chinese Opium Den', False, 1894, -9999, 1, 'Short'), ('tt0000007', 'short', 'Corbett and Courtney Before the Kinetograph', 'Corbett and Courtney Before the Kinetograph', False, 1894, -9999, 1, 'Short'), ('tt0000008', 'short', 'Edison Kinetoscopic Record of a Sneeze', 'Edison Kinetoscopic Record of a Sneeze', False, 1894, -9999, 1, 'Documentary'), ('tt0000009', 'movie', 'Miss Jerry', 'Miss Jerry', False, 1894, -9999, 45, 'Romance'), ('tt0000010', 'short', 'Employees Leaving the Lumière Factory', \"La sortie de l'usine Lumière à Lyon\", False, 1895, -9999, 1, 'Documentary'), ('tt0000011', 'short', 'Akrobatisches Potpourri', 'Akrobatisches Potpourri', False, 1895, -9999, 1, 'Documentary'), ('tt0000012', 'short', 'The Arrival of a Train', \"L'arrivée d'un train à La Ciotat\", False, 1896, -9999, 1, 'Documentary'), ('tt0000013', 'short', 'The Photographical Congress Arrives in Lyon', 'Neuville-sur-Saône: Débarquement du congrès des photographes à Lyon', False, 1895, -9999, 1, 'Documentary'), ('tt0000014', 'short', 'Tables Turned on the Gardener', \"L'arroseur arrosé\", False, 1895, -9999, 1, 'Comedy'), ('tt0000015', 'short', \"Autour d'une cabine\", \"Autour d'une cabine\", False, 1894, -9999, 2, 'Animation'), ('tt0000016', 'short', 'Barque sortant du port', 'Barque sortant du port', False, 1895, -9999, 1, 'Documentary'), ('tt0000017', 'short', 'Italienischer Bauerntanz', 'Italienischer Bauerntanz', False, 1895, -9999, 1, 'Documentary'), ('tt0000018', 'short', 'Das boxende Känguruh', 'Das boxende Känguruh', False, 1895, -9999, 1, 'Short'), ('tt0000019', 'short', 'The Clown Barber', 'The Clown Barber', False, 1898, -9999, -9999, 'Comedy'), ('tt0000020', 'short', 'The Derby 1895', 'The Derby 1895', False, 1895, -9999, 1, 'Documentary'), ('tt0000022', 'short', 'Blacksmith Scene', 'Les forgerons', False, 1895, -9999, 1, 'Documentary'), ('tt0000023', 'short', 'The Sea', 'Baignade en mer', False, 1895, -9999, 1, 'Documentary'), ('tt0000024', 'short', 'Opening of the Kiel Canal', 'Opening of the Kiel Canal', False, 1895, -9999, -9999, 'News'), ('tt0000025', 'short', 'The Oxford and Cambridge University Boat Race', 'The Oxford and Cambridge University Boat Race', False, 1895, -9999, -9999, 'News'), ('tt0000026', 'short', 'The Messers. Lumière at Cards', \"Partie d'écarté\", False, 1896, -9999, 1, 'Documentary'), ('tt0000027', 'short', \"Cordeliers' Square in Lyon\", 'Place des Cordeliers à Lyon', False, 1895, -9999, 1, 'Documentary'), ('tt0000028', 'short', 'Fishing for Goldfish', 'La pêche aux poissons rouges', False, 1895, -9999, 1, 'Documentary'), ('tt0000029', 'short', \"Baby's Dinner\", 'Repas de bébé', False, 1895, -9999, 1, 'Documentary'), ('tt0000030', 'short', 'Rough Sea at Dover', 'Rough Sea at Dover', False, 1895, -9999, 1, 'Documentary'), ('tt0000031', 'short', 'Jumping the Blanket', 'Le saut à la couverture', False, 1895, -9999, 1, 'Documentary'), ('tt0000032', 'short', 'Die Serpentintänzerin', 'Die Serpentintänzerin', False, 1895, -9999, 1, 'Short'), ('tt0000033', 'short', 'Trick Riding', 'La voltige', False, 1895, -9999, 1, 'Comedy'), ('tt0000034', 'short', \"Arrivée d'un train gare de Vincennes\", \"Arrivée d'un train gare de Vincennes\", False, 1896, -9999, -9999, 'Documentary'), ('tt0000035', 'short', 'Watering the Flowers', \"L'arroseur\", False, 1896, -9999, -9999, 'Comedy'), ('tt0000036', 'short', 'Awakening of Rip', 'Awakening of Rip', False, 1896, -9999, 0, 'Drama'), ('tt0000037', 'short', 'Sea Bathing', 'Baignade en mer', False, 1896, -9999, -9999, 'Short'), ('tt0000038', 'short', 'The Ball Game', 'The Ball Game', False, 1898, -9999, -9999, 'Documentary'), ('tt0000039', 'short', 'Barnet Horse Fair', 'Barnet Horse Fair', False, 1896, -9999, -9999, 'Short'), ('tt0000040', 'short', 'Barque sortant du port de Trouville', 'Barque sortant du port de Trouville', False, 1896, -9999, -9999, 'Documentary'), ('tt0000041', 'short', 'Bataille de neige', 'Bataille de neige', False, 1897, -9999, 1, 'Documentary'), ('tt0000042', 'short', 'Bateau-mouche sur la Seine', 'Bateau-mouche sur la Seine', False, 1896, -9999, -9999, 'Documentary'), ('tt0000043', 'short', 'Batteuse à vapeur', 'Batteuse à vapeur', False, 1896, -9999, -9999, 'Documentary'), ('tt0000044', 'short', 'Le bivouac', 'Le bivouac', False, 1896, -9999, -9999, 'Short'), ('tt0000045', 'short', 'Les blanchisseuses', 'Les blanchisseuses', False, 1896, -9999, -9999, 'Short'), ('tt0000046', 'short', 'Bois de Boulogne', 'Bois de Boulogne', False, 1896, -9999, -9999, 'Documentary'), ('tt0000047', 'short', 'Boulevard des Italiens', 'Boulevard des Italiens', False, 1896, -9999, -9999, 'Documentary'), ('tt0000048', 'short', 'The Boxing Kangaroo', 'The Boxing Kangaroo', False, 1896, -9999, -9999, 'Short'), ('tt0000049', 'short', 'Boxing Match; or, Glove Contest', 'Boxing Match; or, Glove Contest', False, 1896, -9999, -9999, 'Short'), ('tt0000050', 'short', 'Bébé et fillettes', 'Bébé et fillettes', False, 1896, -9999, -9999, 'Documentary'), ('tt0000051', 'short', 'The Bohemian Encampment', 'Campement de bohémiens', False, 1896, -9999, -9999, 'Documentary'), ('tt0000052', 'short', 'Carga de rurales', 'Carga de rurales', False, 1896, -9999, 1, 'Documentary'), ('tt0000053', 'short', 'A Chegada do Comboio Inaugural à Estação Central do Porto', 'A Chegada do Comboio Inaugural à Estação Central do Porto', False, 1897, -9999, -9999, 'Documentary'), ('tt0000054', 'short', 'A Merry-Go-Round', 'Les chevaux de bois', False, 1896, -9999, -9999, 'Short'), ('tt0000055', 'short', 'Le chiffonnier', 'Le chiffonnier', False, 1896, -9999, -9999, 'Short'), ('tt0000056', 'short', 'Uma Corrida de Touros no Campo Pequeno', 'Uma Corrida de Touros no Campo Pequeno', False, 1896, -9999, -9999, 'Short'), ('tt0000057', 'short', 'Cortège de tzar allant à Versailles', 'Cortège de tzar allant à Versailles', False, 1896, -9999, -9999, 'Documentary'), ('tt0000058', 'short', 'Cortège de tzar au Bois de Boulogne', 'Cortège de tzar au Bois de Boulogne', False, 1896, -9999, -9999, 'Documentary'), ('tt0000059', 'short', 'Coronation of a Village Maiden', 'Couronnement de la rosière', False, 1896, -9999, -9999, 'Short'), ('tt0000060', 'short', 'Dancing Darkies', 'Dancing Darkies', False, 1896, -9999, -9999, 'Documentary'), ('tt0000061', 'short', 'Dancing Girls', 'Dancing Girls', False, 1896, -9999, -9999, 'Short'), ('tt0000062', 'short', 'Danse serpentine', 'Danse serpentine', False, 1896, -9999, -9999, 'Short'), ('tt0000063', 'short', 'Dessinateur express', 'Dessinateur express', False, 1896, -9999, -9999, 'Short'), ('tt0000064', 'short', 'Dessinateur: Chamberlain', 'Dessinateur: Chamberlain', False, 1896, -9999, -9999, 'Short'), ('tt0000065', 'short', 'Dessinateur: Reine Victoria', 'Dessinateur: Reine Victoria', False, 1896, -9999, -9999, 'Short'), ('tt0000066', 'short', 'Dessinateur: Von Bismark', 'Dessinateur: Von Bismark', False, 1896, -9999, -9999, 'Short'), ('tt0000067', 'short', 'Conjurer Making Ten Hats in Sixty Seconds', 'Dix chapeaux en 60 secondes', False, 1896, -9999, -9999, 'Fantasy'), ('tt0000068', 'short', 'Unloading the Boat', 'Déchargement de bateaux', False, 1896, -9999, -9999, 'Documentary'), ('tt0000069', 'short', 'Post No Bills', \"Défense d'afficher\", False, 1896, -9999, 1, 'Short'), ('tt0000070', 'short', \"Démolition d'un mur\", \"Démolition d'un mur\", False, 1896, -9999, 1, 'Documentary'), ('tt0000071', 'short', 'Automobiles Starting a Race', 'Départ des automobiles', False, 1896, -9999, -9999, 'Short'), ('tt0000072', 'short', 'Officers of French Army Leaving Service', 'Départ des officiers', False, 1896, -9999, -9999, 'Short'), ('tt0000073', 'short', 'Effets de mer sur les rochers', 'Effets de mer sur les rochers', False, 1896, -9999, -9999, 'Documentary'), ('tt0000074', 'short', 'Enfants jouant sur la plage', 'Enfants jouant sur la plage', False, 1896, -9999, -9999, 'Documentary'), ('tt0000075', 'short', 'The Conjuring of a Woman at the House of Robert Houdin', \"Escamotage d'une dame au théâtre Robert Houdin\", False, 1896, -9999, 1, 'Horror'), ('tt0000076', 'short', 'Exit of Rip and the Dwarf', 'Exit of Rip and the Dwarf', False, 1896, -9999, 1, 'Drama'), ('tt0000077', 'short', 'Le fakir, mystère indien', 'Le fakir, mystère indien', False, 1896, -9999, -9999, 'Short'), ('tt0000078', 'short', 'Feira de Gado na Corujeira', 'Feira de Gado na Corujeira', False, 1896, -9999, 1, 'Documentary'), ('tt0000079', 'short', 'La gare Saint-Lazare', 'La gare Saint-Lazare', False, 1896, -9999, -9999, 'Documentary'), ('tt0000080', 'short', 'Grandes manoeuvres', 'Grandes manoeuvres', False, 1896, -9999, -9999, 'Documentary'), ('tt0000081', 'short', 'Towing a Boat on the River', 'Les haleurs de bateaux', False, 1896, -9999, -9999, 'Documentary'), ('tt0000082', 'short', 'A Hard Wash', 'A Hard Wash', False, 1896, -9999, -9999, 'Comedy'), ('tt0000083', 'short', 'Les indiscrets', 'Les indiscrets', False, 1896, -9999, -9999, 'Short'), ('tt0000084', 'short', 'Les ivrognes', 'Les ivrognes', False, 1896, -9999, -9999, 'Short'), ('tt0000085', 'short', 'Gardener Burning Weeds', 'Jardinier brûlant des herbes', False, 1896, -9999, -9999, 'Short'), ('tt0000086', 'short', 'Beach and Pier at Trouville, 1st part', 'Jetée et plage de Trouville (1er partie)', False, 1896, -9999, -9999, 'Documentary'), ('tt0000087', 'short', 'Beach and Pier at Trouville, 2nd part', 'Jetée et plage de Trouville (2e partie)', False, 1896, -9999, -9999, 'Documentary'), ('tt0000088', 'short', 'Market Day', 'Jour de marché à Trouville', False, 1896, -9999, -9999, 'Documentary'), ('tt0000089', 'short', 'Leaving Jerusalem by Railway', 'Départ de Jérusalem en chemin de fer', False, 1897, -9999, 1, 'Documentary'), ('tt0000090', 'short', 'Libération des territoriaux', 'Libération des territoriaux', False, 1896, -9999, -9999, 'Documentary'), ('tt0000091', 'short', 'The House of the Devil', 'Le manoir du diable', False, 1896, -9999, 3, 'Horror'), ('tt0000092', 'short', 'Marée montante sur Brise-Larmes', 'Marée montante sur Brise-Larmes', False, 1896, -9999, -9999, 'Documentary'), ('tt0000093', 'short', 'Melbourne', 'Melbourne', False, 1896, -9999, -9999, 'Documentary'), ('tt0000094', 'short', 'Miss de Vere', 'Miss de Vere', False, 1896, -9999, -9999, 'Short'), ('tt0000095', 'short', 'The Mysterious Paper', 'Le papier protée', False, 1896, -9999, -9999, 'Short'), ('tt0000096', 'short', 'Place Saint-Augustin', 'Place Saint-Augustin', False, 1896, -9999, -9999, 'Documentary'), ('tt0000097', 'short', \"Place de l'Opéra, First View\", \"Place de l'Opéra, 1er aspect\", False, 1896, -9999, -9999, 'Documentary'), ('tt0000098', 'short', \"Place de l'Opéra, Second View\", \"Place de l'Opéra, 2e aspect\", False, 1896, -9999, -9999, 'Documentary'), ('tt0000099', 'short', 'Place de la Bastille', 'Place de la Bastille', False, 1896, -9999, -9999, 'Documentary'), ('tt0000100', 'short', 'Place de la Concorde', 'Place de la Concorde', False, 1896, -9999, -9999, 'Documentary'), ('tt0000101', 'short', 'Place du théâtre français', 'Place du théâtre français', False, 1896, -9999, -9999, 'Documentary')\n"
     ]
    }
   ],
   "source": [
    "s = generate_query(table_name, title_basics_df.iloc[:100])\n",
    "print(s)"
   ]
  },
  {
   "cell_type": "code",
   "execution_count": 106,
   "metadata": {},
   "outputs": [
    {
     "name": "stdout",
     "output_type": "stream",
     "text": [
      "Connecting to database\n",
      "  ->host=postgresql-aws.c45uzy6noe0z.us-east-1.rds.amazonaws.com port=5432 dbname=MetisProject2 user=cmgiler password=########\n",
      "Connected!\n",
      "\n"
     ]
    },
    {
     "ename": "ProgrammingError",
     "evalue": "column \"La sortie de l'usine Lumière à Lyon\" does not exist\nLINE 1: ...'short', 'Employees Leaving the Lumière Factory', \"La sortie...\n                                                             ^\n",
     "output_type": "error",
     "traceback": [
      "\u001b[0;31m---------------------------------------------------------------------------\u001b[0m",
      "\u001b[0;31mProgrammingError\u001b[0m                          Traceback (most recent call last)",
      "\u001b[0;32m<ipython-input-106-c8a8f2422a6c>\u001b[0m in \u001b[0;36m<module>\u001b[0;34m()\u001b[0m\n\u001b[1;32m      2\u001b[0m \u001b[0mconn\u001b[0m \u001b[0;34m=\u001b[0m \u001b[0mconnect_to_db\u001b[0m\u001b[0;34m(\u001b[0m\u001b[0;34m)\u001b[0m\u001b[0;34m\u001b[0m\u001b[0m\n\u001b[1;32m      3\u001b[0m \u001b[0mcursor\u001b[0m \u001b[0;34m=\u001b[0m \u001b[0mconn\u001b[0m\u001b[0;34m.\u001b[0m\u001b[0mcursor\u001b[0m\u001b[0;34m(\u001b[0m\u001b[0;34m)\u001b[0m\u001b[0;34m\u001b[0m\u001b[0m\n\u001b[0;32m----> 4\u001b[0;31m \u001b[0mcursor\u001b[0m\u001b[0;34m.\u001b[0m\u001b[0mexecute\u001b[0m\u001b[0;34m(\u001b[0m\u001b[0ms\u001b[0m\u001b[0;34m)\u001b[0m\u001b[0;34m\u001b[0m\u001b[0m\n\u001b[0m\u001b[1;32m      5\u001b[0m \u001b[0mcursor\u001b[0m\u001b[0;34m.\u001b[0m\u001b[0mcommit\u001b[0m\u001b[0;34m(\u001b[0m\u001b[0;34m)\u001b[0m\u001b[0;34m\u001b[0m\u001b[0m\n\u001b[1;32m      6\u001b[0m \u001b[0mconn\u001b[0m\u001b[0;34m.\u001b[0m\u001b[0mclose\u001b[0m\u001b[0;34m(\u001b[0m\u001b[0;34m)\u001b[0m\u001b[0;34m\u001b[0m\u001b[0m\n",
      "\u001b[0;31mProgrammingError\u001b[0m: column \"La sortie de l'usine Lumière à Lyon\" does not exist\nLINE 1: ...'short', 'Employees Leaving the Lumière Factory', \"La sortie...\n                                                             ^\n"
     ]
    }
   ],
   "source": [
    "conn = connect_to_db()\n",
    "cursor = conn.cursor()\n",
    "cursor.execute(s)\n",
    "cursor.commit()\n",
    "conn.close()"
   ]
  },
  {
   "cell_type": "code",
   "execution_count": null,
   "metadata": {
    "collapsed": true
   },
   "outputs": [],
   "source": []
  },
  {
   "cell_type": "markdown",
   "metadata": {},
   "source": [
    "##### title.crew.tsv.gz – Contains the director and writer information for all the titles in IMDb. Fields include:\n",
    "- tconst (string)\n",
    "- directors (array of nconsts) - director(s) of the given title\n",
    "- writers (array of nconsts) – writer(s) of the given title"
   ]
  },
  {
   "cell_type": "code",
   "execution_count": 40,
   "metadata": {
    "collapsed": true
   },
   "outputs": [],
   "source": [
    "table_name = 'title_crew'\n",
    "query = \"\"\"CREATE TABLE %s(tconst VARCHAR(20) PRIMARY KEY, \n",
    "                           directors VARCHAR(500), \n",
    "                           writers VARCHAR(500))\"\"\" % table_name\n",
    "\n",
    "cursor.execute(\"DROP TABLE IF EXISTS %s\" % table_name)\n",
    "cursor.execute(query)\n",
    "conn.commit()"
   ]
  },
  {
   "cell_type": "markdown",
   "metadata": {},
   "source": [
    "##### title.episode.tsv.gz – Contains the tv episode information. Fields include:\n",
    "- tconst (string) - alphanumeric identifier of episode\n",
    "- parentTconst (string) - alphanumeric identifier of the parent TV Series\n",
    "- seasonNumber (integer) – season number the episode belongs to\n",
    "- episodeNumber (integer) – episode number of the tconst in the TV series."
   ]
  },
  {
   "cell_type": "code",
   "execution_count": 41,
   "metadata": {
    "collapsed": true
   },
   "outputs": [],
   "source": [
    "table_name = 'title_episode'\n",
    "query = \"\"\"CREATE TABLE %s(tconst VARCHAR(20) PRIMARY KEY, \n",
    "                           parentTconst VARCHAR(20), \n",
    "                           seasonNumber INTEGER,\n",
    "                           episodeNumber INTEGER)\"\"\" % table_name\n",
    "\n",
    "cursor.execute(\"DROP TABLE IF EXISTS %s\" % table_name)\n",
    "cursor.execute(query)\n",
    "conn.commit()"
   ]
  },
  {
   "cell_type": "markdown",
   "metadata": {},
   "source": [
    "##### title.principals.tsv.gz – Contains the principal cast/crew for titles\n",
    "- tconst (string)\n",
    "- principalCast (array of nconsts) – title’s top-billed cast/crew"
   ]
  },
  {
   "cell_type": "code",
   "execution_count": 42,
   "metadata": {
    "collapsed": true
   },
   "outputs": [],
   "source": [
    "table_name = 'title_principals'\n",
    "query = \"\"\"CREATE TABLE %s(tconst VARCHAR(20) PRIMARY KEY, \n",
    "                           principalCast VARCHAR(500))\"\"\" % table_name\n",
    "\n",
    "cursor.execute(\"DROP TABLE IF EXISTS %s\" % table_name)\n",
    "cursor.execute(query)\n",
    "conn.commit()"
   ]
  },
  {
   "cell_type": "markdown",
   "metadata": {},
   "source": [
    "##### title.ratings.tsv.gz – Contains the IMDb rating and votes information for titles\n",
    "- tconst (string)\n",
    "- averageRating – weighted average of all the individual user ratings\n",
    "- numVotes - number of votes the title has received"
   ]
  },
  {
   "cell_type": "code",
   "execution_count": 43,
   "metadata": {
    "collapsed": true
   },
   "outputs": [],
   "source": [
    "table_name = 'title_ratings'\n",
    "query = \"\"\"CREATE TABLE %s(tconst VARCHAR(20) PRIMARY KEY, \n",
    "                           averageRating REAL,\n",
    "                           numVotes INTEGER)\"\"\" % table_name\n",
    "\n",
    "cursor.execute(\"DROP TABLE IF EXISTS %s\" % table_name)\n",
    "cursor.execute(query)\n",
    "conn.commit()"
   ]
  },
  {
   "cell_type": "markdown",
   "metadata": {},
   "source": [
    "##### name.basics.tsv.gz – Contains the following information for names:\n",
    "- nconst (string) - alphanumeric unique identifier of the name/person\n",
    "- primaryName (string)– name by which the person is most often credited\n",
    "- birthYear – in YYYY format\n",
    "- deathYear – in YYYY format if applicable, else ‘\\N’\n",
    "- primaryProfession (array of strings)– the top-3 professions of the person\n",
    "- knownForTitles (array of tconsts) – titles the person is known for"
   ]
  },
  {
   "cell_type": "code",
   "execution_count": 84,
   "metadata": {
    "collapsed": true
   },
   "outputs": [],
   "source": [
    "table_name = 'name_basics'\n",
    "query = \"\"\"CREATE TABLE %s(nconst VARCHAR(20) PRIMARY KEY, \n",
    "                           prmaryName VARCHAR(250),\n",
    "                           birthYear INTEGER,\n",
    "                           deathYear INTEGER,\n",
    "                           primaryProfession VARCHAR(500),\n",
    "                           knownForTitles VARCHAR(500))\"\"\" % table_name\n",
    "\n",
    "cursor.execute(\"DROP TABLE IF EXISTS %s\" % table_name)\n",
    "cursor.execute(query)\n",
    "conn.commit()"
   ]
  },
  {
   "cell_type": "code",
   "execution_count": null,
   "metadata": {
    "collapsed": true
   },
   "outputs": [],
   "source": []
  },
  {
   "cell_type": "code",
   "execution_count": null,
   "metadata": {
    "collapsed": true
   },
   "outputs": [],
   "source": []
  },
  {
   "cell_type": "code",
   "execution_count": null,
   "metadata": {
    "collapsed": true
   },
   "outputs": [],
   "source": []
  }
 ],
 "metadata": {
  "kernelspec": {
   "display_name": "Python 3",
   "language": "python",
   "name": "python3"
  },
  "language_info": {
   "codemirror_mode": {
    "name": "ipython",
    "version": 3
   },
   "file_extension": ".py",
   "mimetype": "text/x-python",
   "name": "python",
   "nbconvert_exporter": "python",
   "pygments_lexer": "ipython3",
   "version": "3.6.1"
  }
 },
 "nbformat": 4,
 "nbformat_minor": 2
}
