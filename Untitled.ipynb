{
 "cells": [
  {
   "cell_type": "markdown",
   "metadata": {},
   "source": [
    "## Pair Programming Problem 03-04"
   ]
  },
  {
   "cell_type": "markdown",
   "metadata": {},
   "source": [
    "*This is a tough problem. If you are stuck, please ask an instructor for help.*\n",
    "\n",
    "If you're named Danny Kyung or Matthew Emes, it opens up the possibility of justifying your use of usernames such as [dank](https://github.com/dank) or [memes](https://github.com/memes).\n",
    "Your task is to find the longest word such that it satisfies the criteria - that is, it is a substring of the given string but not necessarily consecutively (we can call it a sparse substring). If there are multiple words of same maximum length, output all of them.\n",
    "You may use the the [Enable word list](http://norvig.com/ngrams/enable1.txt), or some other reasonable English word list. Every word in your output must appear in your word list.\n",
    "Formal Inputs & Outputs\n",
    "\n",
    "#### Input description\n",
    "```\n",
    "One string.\n",
    "```\n",
    "#### Example Inputs\n",
    "```\n",
    "Donald Knuth\n",
    "Alan Turing\n",
    "Claude Shannon\n",
    "```\n",
    "#### Output description\n",
    "```\n",
    "A single word (output the lengthiest word/words in case of multiple words satisfying the criteria)\n",
    "```\n",
    "#### Example outputs\n",
    "```\n",
    "Donut (because **Don**ald k**nut**h)\n",
    "Alanin, Anting\n",
    "Cannon\n",
    "```\n",
    "Note : Your outputs may differ from these outputs depending on the word list you are using\n",
    "\n",
    "#### Challenge Inputs\n",
    "```\n",
    "Ada Lovelace\n",
    "Haskell Curry\n",
    "**Your own name!**\n",
    "```"
   ]
  },
  {
   "cell_type": "code",
   "execution_count": 93,
   "metadata": {},
   "outputs": [],
   "source": [
    "def dank_memes(name):\n",
    "    import pandas as pd\n",
    "    \n",
    "    # Load words list\n",
    "    words = pd.read_csv('http://norvig.com/ngrams/enable1.txt', sep='\\n', header=None).values\n",
    "    words = [p[0] for p in words]\n",
    "    \n",
    "    # Pre-process name\n",
    "    name = name.strip().replace(' ', '').lower()\n",
    "    \n",
    "    matching_words = []\n",
    "    max_length = 0\n",
    "    \n",
    "    for word in words:\n",
    "        word = list(str(word))\n",
    "        cur_name = list(name)\n",
    "        check = ''\n",
    "        while cur_name and word:\n",
    "            if cur_name[0] == word[0]:\n",
    "                check += word.pop(0)\n",
    "            cur_name.pop(0)\n",
    "            if len(word) == 0:\n",
    "                matching_words.append(check)\n",
    "                if len(check) > max_length:\n",
    "                    max_length = len(check)\n",
    "    return [w for w in matching_words if len(w) == max_length]"
   ]
  },
  {
   "cell_type": "code",
   "execution_count": null,
   "metadata": {},
   "outputs": [],
   "source": [
    "dank_memes('')"
   ]
  },
  {
   "cell_type": "code",
   "execution_count": null,
   "metadata": {
    "collapsed": true
   },
   "outputs": [],
   "source": []
  }
 ],
 "metadata": {
  "kernelspec": {
   "display_name": "Python 3",
   "language": "python",
   "name": "python3"
  },
  "language_info": {
   "codemirror_mode": {
    "name": "ipython",
    "version": 3
   },
   "file_extension": ".py",
   "mimetype": "text/x-python",
   "name": "python",
   "nbconvert_exporter": "python",
   "pygments_lexer": "ipython3",
   "version": "3.6.1"
  }
 },
 "nbformat": 4,
 "nbformat_minor": 2
}
