{
 "cells": [
  {
   "cell_type": "code",
   "execution_count": 1,
   "metadata": {
    "collapsed": true
   },
   "outputs": [],
   "source": [
    "import numpy as np\n",
    "import pandas as pd\n",
    "from bs4 import BeautifulSoup\n",
    "import urllib\n",
    "import requests\n",
    "import datetime\n",
    "import re\n",
    "\n",
    "import matplotlib.pyplot as plt\n",
    "%matplotlib inline"
   ]
  },
  {
   "cell_type": "code",
   "execution_count": 93,
   "metadata": {
    "scrolled": true
   },
   "outputs": [
    {
     "name": "stdout",
     "output_type": "stream",
     "text": [
      "20111231\n",
      "20120630\n",
      "20121231\n",
      "20130630\n",
      "20131231\n",
      "20140630\n",
      "20141231\n",
      "20150630\n",
      "20151231\n",
      "20160630\n",
      "20161231\n",
      "20170630\n",
      "20171231\n"
     ]
    }
   ],
   "source": [
    "start_date = datetime.datetime(2011, 12, 30)\n",
    "end_date = datetime.datetime(2018, 1, 30)\n",
    "twitter_handle = 'tomhanks'\n",
    "dates = []\n",
    "def get_url(twitter_handle, date_str):\n",
    "    return 'http://web.archive.org/web/%s000000/http://twitter.com/%s' % (date_str, twitter_handle)\n",
    "\n",
    "for date in list(pd.date_range(start_date, end_date, freq='6M')):\n",
    "    dates.append(date.strftime('%Y%m%d'))\n",
    "    \n",
    "    \n",
    "twitter_parse = {}\n",
    "twitter_parse[twitter_handle] = {}\n",
    "\n",
    "\n",
    "\n",
    "for date in dates:\n",
    "    print(date)\n",
    "#     try:\n",
    "    twitter_parse[twitter_handle][date] = {}\n",
    "    r = requests.get(get_url(twitter_handle, date))\n",
    "    soup = BeautifulSoup(r.text, \"html5lib\")\n",
    "    field_names = ['num_tweets', 'num_following', 'num_followers', 'num_likes']\n",
    "    elements = soup.findAll('span', attrs={'class': 'ProfileNav-value'})[:4]\n",
    "    attribute = 'data-count'\n",
    "    field_names = ['num_tweets', 'num_following', 'num_followers', 'num_likes']\n",
    "    if len(elements) == 0:\n",
    "        continue\n",
    "    if not elements[0].get_attribute_list(attribute)[0]:\n",
    "        elements = soup.findAll('a', attrs={'class': 'ProfileNav-stat--link'})[:4]\n",
    "        attribute = 'title'\n",
    "        field_names = ['num_following', 'num_likes', 'num_followers', 'num_tweets']\n",
    "    for elem, field in zip(elements, field_names):\n",
    "        twitter_parse[twitter_handle][date][field] = elem.get_attribute_list(attribute)\n",
    "#     except:\n",
    "#     print('ERROR')"
   ]
  },
  {
   "cell_type": "code",
   "execution_count": 94,
   "metadata": {},
   "outputs": [
    {
     "data": {
      "text/plain": [
       "['20111231',\n",
       " '20120630',\n",
       " '20121231',\n",
       " '20130630',\n",
       " '20131231',\n",
       " '20140630',\n",
       " '20141231',\n",
       " '20150630',\n",
       " '20151231',\n",
       " '20160630',\n",
       " '20161231',\n",
       " '20170630',\n",
       " '20171231']"
      ]
     },
     "execution_count": 94,
     "metadata": {},
     "output_type": "execute_result"
    }
   ],
   "source": [
    "dates"
   ]
  },
  {
   "cell_type": "code",
   "execution_count": null,
   "metadata": {
    "collapsed": true
   },
   "outputs": [],
   "source": []
  },
  {
   "cell_type": "code",
   "execution_count": 19,
   "metadata": {},
   "outputs": [
    {
     "name": "stdout",
     "output_type": "stream",
     "text": [
      "http://web.archive.org/web/20080922131416/http://twitter.com:80/russellcrowe\n"
     ]
    },
    {
     "data": {
      "text/plain": [
       "[<ul id=\"accessibility\">\n",
       "   <li>On a mobile phone? Check out <a href=\"http://web.archive.org/web/20080922131416/http://m.twitter.com/\">m.twitter.com</a>!</li>\n",
       "   <li><a accesskey=\"2\" href=\"#footer\">Skip to navigation</a></li>\n",
       "     <li><a href=\"#signin\">Skip to sign in form</a></li>\n",
       " </ul>, <ul class=\"about vcard entry-author\">\n",
       "       <li><span class=\"label\">Name</span> <span class=\"fn\">russellcrowe</span></li>\n",
       "               <li><span class=\"label\">Location</span> <span class=\"adr\">Home of the Crimson Tide</span></li>\n",
       "                     <li><span class=\"label\">Web</span> <a class=\"url\" href=\"http://web.archive.org/web/20080922131416/http://www.thehitechredneck.com/\" rel=\"me nofollow\">http://www.thehit...</a></li>\n",
       "       \n",
       "             <li id=\"bio\"><span class=\"label\">Bio</span> <span class=\"bio\">\"The dude abides\"</span></li>\n",
       "           </ul>, <ul id=\"tabMenu\">\n",
       "   <li>\n",
       "     <a href=\"#\" id=\"updates_tab\" onclick=\"gaTrack('/home/refresh'); new Ajax.Request('/russellcrowe', {asynchronous:true, evalScripts:true, parameters:'authenticity_token=' + encodeURIComponent('bfa41b2373b360e4b697f10f0396775c43b34404')}); return false;\">Updates</a>  </li>\n",
       "   <li>\n",
       "     <a href=\"/web/20080922131416/http://twitter.com:80/russellcrowe/favourites\" id=\"favorites_tab\">Favorites</a>  </li>\n",
       "   </ul>, <ul>\n",
       " \t\t<li class=\"first\">© 2008 Twitter</li>\n",
       " \t\t<li><a href=\"/web/20080922131416/http://twitter.com:80/help/aboutus\">About Us</a></li>\n",
       " \t\t<li><a href=\"/web/20080922131416/http://twitter.com:80/help/contact\">Contact</a></li>\n",
       " \t\t<li><a href=\"http://web.archive.org/web/20080922131416/http://blog.twitter.com/\">Blog</a></li>\n",
       " \t\t<li><a href=\"http://web.archive.org/web/20080922131416/http://status.twitter.com/\">Status</a></li>\n",
       "     \n",
       " \t\t  <li><a href=\"/web/20080922131416/http://twitter.com:80/downloads\">Downloads</a></li>\n",
       " \t\t\n",
       " \t\t<li><a href=\"http://web.archive.org/web/20080922131416/http://apiwiki.twitter.com/\">API</a></li>\n",
       " \t\t<li><a href=\"http://web.archive.org/web/20080922131416/http://search.twitter.com/\">Search</a></li>\n",
       " \t\t<li><a href=\"http://web.archive.org/web/20080922131416/http://help.twitter.com/\">Help</a></li>\n",
       " \t\t<li><a href=\"/web/20080922131416/http://twitter.com:80/help/jobs\">Jobs</a></li>\n",
       " \t\t<li><a href=\"/web/20080922131416/http://twitter.com:80/tos\">TOS</a></li>\n",
       " \t\t<li><a href=\"/web/20080922131416/http://twitter.com:80/help/privacy\">Privacy</a></li>\n",
       " \t</ul>, <ul>\n",
       " \t\t<li>\n",
       " \t\t\t<form action=\"/web/20080922131416/http://twitter.com:80/tw/search/users\" class=\"flatbutton\" id=\"search_form\" name=\"search_form\" style=\"display:inline;\">\n",
       " \t\t\t  <input id=\"query_input\" name=\"q\" onfocus=\"this.value = ''\" style=\"font-size:0.9em;padding:2px;width:130px;height:12px;\" type=\"text\" value=\"Name or location\"/>  \n",
       " \t\t\t  <input id=\"query_submit\" style=\"font-size: 0.9em;\" type=\"submit\" value=\"search\"/>\n",
       " \t\t\t</form>\n",
       " \t\t</li>\n",
       " \t\t<li><strong>or</strong> <a href=\"/web/20080922131416/http://twitter.com:80/login\">Login</a> / <a href=\"/web/20080922131416/http://twitter.com:80/signup\">Join Twitter!</a></li>\n",
       " \t</ul>]"
      ]
     },
     "execution_count": 19,
     "metadata": {},
     "output_type": "execute_result"
    }
   ],
   "source": [
    "r = requests.get(get_url(twitter_handle, datetime.datetime(2016,12,1)))\n",
    "print(r.url)\n",
    "soup = BeautifulSoup(r.text, \"html5lib\")\n",
    "# soup.find_all(re.compile('(a|li)'), {'class': re.compile(r'following')})\n",
    "soup.find_all('ul')"
   ]
  },
  {
   "cell_type": "code",
   "execution_count": null,
   "metadata": {
    "collapsed": true
   },
   "outputs": [],
   "source": []
  },
  {
   "cell_type": "code",
   "execution_count": 75,
   "metadata": {},
   "outputs": [
    {
     "data": {
      "text/plain": [
       "'http://web.archive.org/web/20171231000000/http://twitter.com/SamuelLJackson'"
      ]
     },
     "execution_count": 75,
     "metadata": {},
     "output_type": "execute_result"
    }
   ],
   "source": [
    "get_url(twitter_handle, date)"
   ]
  },
  {
   "cell_type": "code",
   "execution_count": 76,
   "metadata": {},
   "outputs": [
    {
     "data": {
      "text/plain": [
       "[<span class=\"ProfileNav-value\" data-count=\"3136\" data-is-compact=\"false\">3,136\n",
       "             </span>,\n",
       " <span class=\"ProfileNav-value\" data-count=\"858\" data-is-compact=\"false\">858</span>,\n",
       " <span class=\"ProfileNav-value\" data-count=\"7163898\" data-is-compact=\"true\">7.16ಮಿ</span>,\n",
       " <span class=\"ProfileNav-value\" data-count=\"200\" data-is-compact=\"false\">200</span>]"
      ]
     },
     "execution_count": 76,
     "metadata": {},
     "output_type": "execute_result"
    }
   ],
   "source": [
    "elements"
   ]
  },
  {
   "cell_type": "code",
   "execution_count": 95,
   "metadata": {},
   "outputs": [
    {
     "data": {
      "text/plain": [
       "{'tomhanks': {'20111231': {},\n",
       "  '20120630': {},\n",
       "  '20121231': {},\n",
       "  '20130630': {},\n",
       "  '20131231': {},\n",
       "  '20140630': {'num_followers': ['24 Following'],\n",
       "   'num_following': ['547 Tweets'],\n",
       "   'num_likes': ['133 Photos/Videos'],\n",
       "   'num_tweets': ['8,412,231 Followers']},\n",
       "  '20141231': {'num_followers': ['৯১,৫১,০৯১ অনুসারীগণ'],\n",
       "   'num_following': ['৬১১ টুইটগুলি'],\n",
       "   'num_likes': ['২৫ নিম্নলিখিত'],\n",
       "   'num_tweets': [None]},\n",
       "  '20150630': {'num_followers': ['9,932,348 Followers'],\n",
       "   'num_following': ['654 Tweets'],\n",
       "   'num_likes': ['25 Following'],\n",
       "   'num_tweets': [None]},\n",
       "  '20151231': {'num_followers': ['10,944,107 ಹಿಂಬಾಲಕರು'],\n",
       "   'num_following': ['682 ಟ್ವೀಟ್\\u200cಗಳು'],\n",
       "   'num_likes': ['25 ಹಿಂಬಾಲಿಸುತ್ತಿದ್ದಾರೆ'],\n",
       "   'num_tweets': [None]},\n",
       "  '20160630': {'num_followers': ['11,975,201 Followers'],\n",
       "   'num_following': ['712 Tweets'],\n",
       "   'num_likes': ['25 Following'],\n",
       "   'num_tweets': [None]},\n",
       "  '20161231': {'num_followers': ['12,515,551 ಹಿಂಬಾಲಕರು'],\n",
       "   'num_following': ['747 ಟ್ವೀಟ್\\u200cಗಳು'],\n",
       "   'num_likes': ['24 ಹಿಂಬಾಲಿಸುತ್ತಿದ್ದಾರೆ'],\n",
       "   'num_tweets': [None]},\n",
       "  '20170630': {'num_followers': ['13345672'],\n",
       "   'num_following': ['24'],\n",
       "   'num_likes': [None],\n",
       "   'num_tweets': ['799']},\n",
       "  '20171231': {'num_followers': ['14951877'],\n",
       "   'num_following': ['24'],\n",
       "   'num_likes': [None],\n",
       "   'num_tweets': ['820']}}}"
      ]
     },
     "execution_count": 95,
     "metadata": {},
     "output_type": "execute_result"
    }
   ],
   "source": [
    "twitter_parse"
   ]
  },
  {
   "cell_type": "code",
   "execution_count": 96,
   "metadata": {},
   "outputs": [],
   "source": [
    "for key in twitter_parse:\n",
    "    for date in twitter_parse[key]:\n",
    "        for number in twitter_parse[key][date]:\n",
    "            if twitter_parse[key][date][number][0]:\n",
    "                twitter_parse[key][date][number] = int(re.sub(r'\\D', '', twitter_parse[key][date][number][0]))"
   ]
  },
  {
   "cell_type": "code",
   "execution_count": 97,
   "metadata": {},
   "outputs": [
    {
     "data": {
      "text/plain": [
       "{'tomhanks': {'20111231': {},\n",
       "  '20120630': {},\n",
       "  '20121231': {},\n",
       "  '20130630': {},\n",
       "  '20131231': {},\n",
       "  '20140630': {'num_followers': 24,\n",
       "   'num_following': 547,\n",
       "   'num_likes': 133,\n",
       "   'num_tweets': 8412231},\n",
       "  '20141231': {'num_followers': 9151091,\n",
       "   'num_following': 611,\n",
       "   'num_likes': 25,\n",
       "   'num_tweets': [None]},\n",
       "  '20150630': {'num_followers': 9932348,\n",
       "   'num_following': 654,\n",
       "   'num_likes': 25,\n",
       "   'num_tweets': [None]},\n",
       "  '20151231': {'num_followers': 10944107,\n",
       "   'num_following': 682,\n",
       "   'num_likes': 25,\n",
       "   'num_tweets': [None]},\n",
       "  '20160630': {'num_followers': 11975201,\n",
       "   'num_following': 712,\n",
       "   'num_likes': 25,\n",
       "   'num_tweets': [None]},\n",
       "  '20161231': {'num_followers': 12515551,\n",
       "   'num_following': 747,\n",
       "   'num_likes': 24,\n",
       "   'num_tweets': [None]},\n",
       "  '20170630': {'num_followers': 13345672,\n",
       "   'num_following': 24,\n",
       "   'num_likes': [None],\n",
       "   'num_tweets': 799},\n",
       "  '20171231': {'num_followers': 14951877,\n",
       "   'num_following': 24,\n",
       "   'num_likes': [None],\n",
       "   'num_tweets': 820}}}"
      ]
     },
     "execution_count": 97,
     "metadata": {},
     "output_type": "execute_result"
    }
   ],
   "source": [
    "twitter_parse"
   ]
  },
  {
   "cell_type": "code",
   "execution_count": 98,
   "metadata": {
    "collapsed": true
   },
   "outputs": [],
   "source": [
    "data_columns = 'name', 'date', 'num_followers', 'num_following', 'num_likes', 'num_tweets'\n",
    "data_list = []\n",
    "\n",
    "for key in twitter_parse:\n",
    "    for date in twitter_parse[key]:\n",
    "        try:\n",
    "            data_list.append([key, date, twitter_parse[key][date]['num_followers'],\n",
    "                             twitter_parse[key][date]['num_following'],\n",
    "                             twitter_parse[key][date]['num_likes'],\n",
    "                             twitter_parse[key][date]['num_tweets']])\n",
    "        except:\n",
    "            pass\n",
    "df = pd.DataFrame(data_list, columns=data_columns)"
   ]
  },
  {
   "cell_type": "code",
   "execution_count": 99,
   "metadata": {
    "collapsed": true
   },
   "outputs": [],
   "source": [
    "df['date'] = pd.to_datetime(df['date'])"
   ]
  },
  {
   "cell_type": "code",
   "execution_count": 100,
   "metadata": {},
   "outputs": [
    {
     "data": {
      "text/html": [
       "<div>\n",
       "<style>\n",
       "    .dataframe thead tr:only-child th {\n",
       "        text-align: right;\n",
       "    }\n",
       "\n",
       "    .dataframe thead th {\n",
       "        text-align: left;\n",
       "    }\n",
       "\n",
       "    .dataframe tbody tr th {\n",
       "        vertical-align: top;\n",
       "    }\n",
       "</style>\n",
       "<table border=\"1\" class=\"dataframe\">\n",
       "  <thead>\n",
       "    <tr style=\"text-align: right;\">\n",
       "      <th></th>\n",
       "      <th>name</th>\n",
       "      <th>date</th>\n",
       "      <th>num_followers</th>\n",
       "      <th>num_following</th>\n",
       "      <th>num_likes</th>\n",
       "      <th>num_tweets</th>\n",
       "    </tr>\n",
       "  </thead>\n",
       "  <tbody>\n",
       "    <tr>\n",
       "      <th>0</th>\n",
       "      <td>tomhanks</td>\n",
       "      <td>2014-06-30</td>\n",
       "      <td>24</td>\n",
       "      <td>547</td>\n",
       "      <td>133</td>\n",
       "      <td>8412231</td>\n",
       "    </tr>\n",
       "    <tr>\n",
       "      <th>1</th>\n",
       "      <td>tomhanks</td>\n",
       "      <td>2014-12-31</td>\n",
       "      <td>9151091</td>\n",
       "      <td>611</td>\n",
       "      <td>25</td>\n",
       "      <td>[None]</td>\n",
       "    </tr>\n",
       "    <tr>\n",
       "      <th>2</th>\n",
       "      <td>tomhanks</td>\n",
       "      <td>2015-06-30</td>\n",
       "      <td>9932348</td>\n",
       "      <td>654</td>\n",
       "      <td>25</td>\n",
       "      <td>[None]</td>\n",
       "    </tr>\n",
       "    <tr>\n",
       "      <th>3</th>\n",
       "      <td>tomhanks</td>\n",
       "      <td>2015-12-31</td>\n",
       "      <td>10944107</td>\n",
       "      <td>682</td>\n",
       "      <td>25</td>\n",
       "      <td>[None]</td>\n",
       "    </tr>\n",
       "    <tr>\n",
       "      <th>4</th>\n",
       "      <td>tomhanks</td>\n",
       "      <td>2016-06-30</td>\n",
       "      <td>11975201</td>\n",
       "      <td>712</td>\n",
       "      <td>25</td>\n",
       "      <td>[None]</td>\n",
       "    </tr>\n",
       "    <tr>\n",
       "      <th>5</th>\n",
       "      <td>tomhanks</td>\n",
       "      <td>2016-12-31</td>\n",
       "      <td>12515551</td>\n",
       "      <td>747</td>\n",
       "      <td>24</td>\n",
       "      <td>[None]</td>\n",
       "    </tr>\n",
       "    <tr>\n",
       "      <th>6</th>\n",
       "      <td>tomhanks</td>\n",
       "      <td>2017-06-30</td>\n",
       "      <td>13345672</td>\n",
       "      <td>24</td>\n",
       "      <td>[None]</td>\n",
       "      <td>799</td>\n",
       "    </tr>\n",
       "    <tr>\n",
       "      <th>7</th>\n",
       "      <td>tomhanks</td>\n",
       "      <td>2017-12-31</td>\n",
       "      <td>14951877</td>\n",
       "      <td>24</td>\n",
       "      <td>[None]</td>\n",
       "      <td>820</td>\n",
       "    </tr>\n",
       "  </tbody>\n",
       "</table>\n",
       "</div>"
      ],
      "text/plain": [
       "       name       date  num_followers  num_following num_likes num_tweets\n",
       "0  tomhanks 2014-06-30             24            547       133    8412231\n",
       "1  tomhanks 2014-12-31        9151091            611        25     [None]\n",
       "2  tomhanks 2015-06-30        9932348            654        25     [None]\n",
       "3  tomhanks 2015-12-31       10944107            682        25     [None]\n",
       "4  tomhanks 2016-06-30       11975201            712        25     [None]\n",
       "5  tomhanks 2016-12-31       12515551            747        24     [None]\n",
       "6  tomhanks 2017-06-30       13345672             24    [None]        799\n",
       "7  tomhanks 2017-12-31       14951877             24    [None]        820"
      ]
     },
     "execution_count": 100,
     "metadata": {},
     "output_type": "execute_result"
    }
   ],
   "source": [
    "df"
   ]
  },
  {
   "cell_type": "code",
   "execution_count": 101,
   "metadata": {},
   "outputs": [
    {
     "name": "stderr",
     "output_type": "stream",
     "text": [
      "/Library/Frameworks/Python.framework/Versions/3.6/lib/python3.6/site-packages/ipykernel_launcher.py:1: SettingWithCopyWarning: \n",
      "A value is trying to be set on a copy of a slice from a DataFrame\n",
      "\n",
      "See the caveats in the documentation: http://pandas.pydata.org/pandas-docs/stable/indexing.html#indexing-view-versus-copy\n",
      "  \"\"\"Entry point for launching an IPython kernel.\n"
     ]
    },
    {
     "data": {
      "text/html": [
       "<div>\n",
       "<style>\n",
       "    .dataframe thead tr:only-child th {\n",
       "        text-align: right;\n",
       "    }\n",
       "\n",
       "    .dataframe thead th {\n",
       "        text-align: left;\n",
       "    }\n",
       "\n",
       "    .dataframe tbody tr th {\n",
       "        vertical-align: top;\n",
       "    }\n",
       "</style>\n",
       "<table border=\"1\" class=\"dataframe\">\n",
       "  <thead>\n",
       "    <tr style=\"text-align: right;\">\n",
       "      <th></th>\n",
       "      <th>name</th>\n",
       "      <th>date</th>\n",
       "      <th>num_followers</th>\n",
       "      <th>num_following</th>\n",
       "      <th>num_likes</th>\n",
       "      <th>num_tweets</th>\n",
       "    </tr>\n",
       "  </thead>\n",
       "  <tbody>\n",
       "    <tr>\n",
       "      <th>0</th>\n",
       "      <td>tomhanks</td>\n",
       "      <td>2014-06-30</td>\n",
       "      <td>8412231</td>\n",
       "      <td>547</td>\n",
       "      <td>133</td>\n",
       "      <td>8412231</td>\n",
       "    </tr>\n",
       "    <tr>\n",
       "      <th>1</th>\n",
       "      <td>tomhanks</td>\n",
       "      <td>2014-12-31</td>\n",
       "      <td>9151091</td>\n",
       "      <td>611</td>\n",
       "      <td>25</td>\n",
       "      <td>[None]</td>\n",
       "    </tr>\n",
       "    <tr>\n",
       "      <th>2</th>\n",
       "      <td>tomhanks</td>\n",
       "      <td>2015-06-30</td>\n",
       "      <td>9932348</td>\n",
       "      <td>654</td>\n",
       "      <td>25</td>\n",
       "      <td>[None]</td>\n",
       "    </tr>\n",
       "    <tr>\n",
       "      <th>3</th>\n",
       "      <td>tomhanks</td>\n",
       "      <td>2015-12-31</td>\n",
       "      <td>10944107</td>\n",
       "      <td>682</td>\n",
       "      <td>25</td>\n",
       "      <td>[None]</td>\n",
       "    </tr>\n",
       "    <tr>\n",
       "      <th>4</th>\n",
       "      <td>tomhanks</td>\n",
       "      <td>2016-06-30</td>\n",
       "      <td>11975201</td>\n",
       "      <td>712</td>\n",
       "      <td>25</td>\n",
       "      <td>[None]</td>\n",
       "    </tr>\n",
       "    <tr>\n",
       "      <th>5</th>\n",
       "      <td>tomhanks</td>\n",
       "      <td>2016-12-31</td>\n",
       "      <td>12515551</td>\n",
       "      <td>747</td>\n",
       "      <td>24</td>\n",
       "      <td>[None]</td>\n",
       "    </tr>\n",
       "    <tr>\n",
       "      <th>6</th>\n",
       "      <td>tomhanks</td>\n",
       "      <td>2017-06-30</td>\n",
       "      <td>13345672</td>\n",
       "      <td>24</td>\n",
       "      <td>[None]</td>\n",
       "      <td>799</td>\n",
       "    </tr>\n",
       "    <tr>\n",
       "      <th>7</th>\n",
       "      <td>tomhanks</td>\n",
       "      <td>2017-12-31</td>\n",
       "      <td>14951877</td>\n",
       "      <td>24</td>\n",
       "      <td>[None]</td>\n",
       "      <td>820</td>\n",
       "    </tr>\n",
       "  </tbody>\n",
       "</table>\n",
       "</div>"
      ],
      "text/plain": [
       "       name       date  num_followers  num_following num_likes num_tweets\n",
       "0  tomhanks 2014-06-30        8412231            547       133    8412231\n",
       "1  tomhanks 2014-12-31        9151091            611        25     [None]\n",
       "2  tomhanks 2015-06-30        9932348            654        25     [None]\n",
       "3  tomhanks 2015-12-31       10944107            682        25     [None]\n",
       "4  tomhanks 2016-06-30       11975201            712        25     [None]\n",
       "5  tomhanks 2016-12-31       12515551            747        24     [None]\n",
       "6  tomhanks 2017-06-30       13345672             24    [None]        799\n",
       "7  tomhanks 2017-12-31       14951877             24    [None]        820"
      ]
     },
     "execution_count": 101,
     "metadata": {},
     "output_type": "execute_result"
    }
   ],
   "source": [
    "df['num_followers'][0] = df['num_tweets'][0]\n",
    "df"
   ]
  },
  {
   "cell_type": "code",
   "execution_count": 102,
   "metadata": {
    "collapsed": true
   },
   "outputs": [],
   "source": [
    "start_date_proj = datetime.datetime(2009, 6, 1)\n",
    "end_date_proj = datetime.datetime.now().date()\n",
    "\n",
    "start_followers = 0\n",
    "end_followers = 15100000"
   ]
  },
  {
   "cell_type": "code",
   "execution_count": null,
   "metadata": {},
   "outputs": [],
   "source": []
  },
  {
   "cell_type": "code",
   "execution_count": null,
   "metadata": {
    "collapsed": true
   },
   "outputs": [],
   "source": []
  },
  {
   "cell_type": "code",
   "execution_count": 106,
   "metadata": {},
   "outputs": [
    {
     "data": {
      "text/plain": [
       "(5000000, 16000000)"
      ]
     },
     "execution_count": 106,
     "metadata": {},
     "output_type": "execute_result"
    },
    {
     "data": {
      "image/png": "[encoded data removed]",
      "text/plain": [
       "<matplotlib.figure.Figure at 0x10bfb0240>"
      ]
     },
     "metadata": {},
     "output_type": "display_data"
    }
   ],
   "source": [
    "fig, ax = plt.subplots(1,1, figsize=(20,10))\n",
    "ax.plot([start_date_proj, end_date_proj], [start_followers, end_followers])\n",
    "df.plot('date', 'num_followers', ax=ax)\n",
    "plt.xlim(datetime.datetime(2014,1,1), datetime.datetime(2018,1,1))\n",
    "plt.ylim(5000000,16000000)\n",
    "# plt.ylim('auto')"
   ]
  },
  {
   "cell_type": "code",
   "execution_count": null,
   "metadata": {
    "collapsed": true
   },
   "outputs": [],
   "source": []
  },
  {
   "cell_type": "code",
   "execution_count": null,
   "metadata": {
    "collapsed": true
   },
   "outputs": [],
   "source": []
  }
 ],
 "metadata": {
  "kernelspec": {
   "display_name": "Python 3",
   "language": "python",
   "name": "python3"
  },
  "language_info": {
   "codemirror_mode": {
    "name": "ipython",
    "version": 3
   },
   "file_extension": ".py",
   "mimetype": "text/x-python",
   "name": "python",
   "nbconvert_exporter": "python",
   "pygments_lexer": "ipython3",
   "version": "3.6.1"
  }
 },
 "nbformat": 4,
 "nbformat_minor": 2
}
